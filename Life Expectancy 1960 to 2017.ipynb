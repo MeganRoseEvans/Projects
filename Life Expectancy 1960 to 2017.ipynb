{
 "cells": [
  {
   "cell_type": "code",
   "execution_count": null,
   "metadata": {},
   "outputs": [],
   "source": [
    "import matplotlib\n",
    "import matplotlib.pyplot as plt\n",
    "import pandas as pd\n",
    "import numpy as np\n",
    "import seaborn as sns\n",
    "matplotlib.use('Agg')\n",
    "import warnings\n",
    "warnings.filterwarnings('ignore')"
   ]
  },
  {
   "cell_type": "code",
   "execution_count": 2,
   "metadata": {
    "scrolled": true
   },
   "outputs": [
    {
     "data": {
      "text/html": [
       "<div>\n",
       "<style scoped>\n",
       "    .dataframe tbody tr th:only-of-type {\n",
       "        vertical-align: middle;\n",
       "    }\n",
       "\n",
       "    .dataframe tbody tr th {\n",
       "        vertical-align: top;\n",
       "    }\n",
       "\n",
       "    .dataframe thead th {\n",
       "        text-align: right;\n",
       "    }\n",
       "</style>\n",
       "<table border=\"1\" class=\"dataframe\">\n",
       "  <thead>\n",
       "    <tr style=\"text-align: right;\">\n",
       "      <th></th>\n",
       "      <th>FIPS</th>\n",
       "      <th>ISO2</th>\n",
       "      <th>ISO3</th>\n",
       "      <th>UN</th>\n",
       "      <th>NAME</th>\n",
       "      <th>AREA</th>\n",
       "      <th>POP2005</th>\n",
       "      <th>REGION</th>\n",
       "      <th>SUBREGION</th>\n",
       "      <th>LON</th>\n",
       "      <th>LAT</th>\n",
       "      <th>geometry</th>\n",
       "    </tr>\n",
       "  </thead>\n",
       "  <tbody>\n",
       "    <tr>\n",
       "      <th>0</th>\n",
       "      <td>AC</td>\n",
       "      <td>AG</td>\n",
       "      <td>ATG</td>\n",
       "      <td>28</td>\n",
       "      <td>Antigua and Barbuda</td>\n",
       "      <td>44</td>\n",
       "      <td>83039</td>\n",
       "      <td>19</td>\n",
       "      <td>29</td>\n",
       "      <td>-61.783</td>\n",
       "      <td>17.078</td>\n",
       "      <td>(POLYGON ((-61.686668 17.02444100000014, -61.7...</td>\n",
       "    </tr>\n",
       "    <tr>\n",
       "      <th>1</th>\n",
       "      <td>AG</td>\n",
       "      <td>DZ</td>\n",
       "      <td>DZA</td>\n",
       "      <td>12</td>\n",
       "      <td>Algeria</td>\n",
       "      <td>238174</td>\n",
       "      <td>32854159</td>\n",
       "      <td>2</td>\n",
       "      <td>15</td>\n",
       "      <td>2.632</td>\n",
       "      <td>28.163</td>\n",
       "      <td>POLYGON ((2.96361 36.802216, 2.981389 36.80693...</td>\n",
       "    </tr>\n",
       "    <tr>\n",
       "      <th>2</th>\n",
       "      <td>AJ</td>\n",
       "      <td>AZ</td>\n",
       "      <td>AZE</td>\n",
       "      <td>31</td>\n",
       "      <td>Azerbaijan</td>\n",
       "      <td>8260</td>\n",
       "      <td>8352021</td>\n",
       "      <td>142</td>\n",
       "      <td>145</td>\n",
       "      <td>47.395</td>\n",
       "      <td>40.430</td>\n",
       "      <td>(POLYGON ((45.08332100000001 39.76804400000015...</td>\n",
       "    </tr>\n",
       "    <tr>\n",
       "      <th>3</th>\n",
       "      <td>AL</td>\n",
       "      <td>AL</td>\n",
       "      <td>ALB</td>\n",
       "      <td>8</td>\n",
       "      <td>Albania</td>\n",
       "      <td>2740</td>\n",
       "      <td>3153731</td>\n",
       "      <td>150</td>\n",
       "      <td>39</td>\n",
       "      <td>20.068</td>\n",
       "      <td>41.143</td>\n",
       "      <td>POLYGON ((19.436214 41.021065, 19.450554 41.05...</td>\n",
       "    </tr>\n",
       "    <tr>\n",
       "      <th>4</th>\n",
       "      <td>AM</td>\n",
       "      <td>AM</td>\n",
       "      <td>ARM</td>\n",
       "      <td>51</td>\n",
       "      <td>Armenia</td>\n",
       "      <td>2820</td>\n",
       "      <td>3017661</td>\n",
       "      <td>142</td>\n",
       "      <td>145</td>\n",
       "      <td>44.563</td>\n",
       "      <td>40.534</td>\n",
       "      <td>(POLYGON ((45.57305100000013 40.63248800000008...</td>\n",
       "    </tr>\n",
       "  </tbody>\n",
       "</table>\n",
       "</div>"
      ],
      "text/plain": [
       "  FIPS ISO2 ISO3  UN                 NAME    AREA   POP2005  REGION  \\\n",
       "0   AC   AG  ATG  28  Antigua and Barbuda      44     83039      19   \n",
       "1   AG   DZ  DZA  12              Algeria  238174  32854159       2   \n",
       "2   AJ   AZ  AZE  31           Azerbaijan    8260   8352021     142   \n",
       "3   AL   AL  ALB   8              Albania    2740   3153731     150   \n",
       "4   AM   AM  ARM  51              Armenia    2820   3017661     142   \n",
       "\n",
       "   SUBREGION     LON     LAT  \\\n",
       "0         29 -61.783  17.078   \n",
       "1         15   2.632  28.163   \n",
       "2        145  47.395  40.430   \n",
       "3         39  20.068  41.143   \n",
       "4        145  44.563  40.534   \n",
       "\n",
       "                                            geometry  \n",
       "0  (POLYGON ((-61.686668 17.02444100000014, -61.7...  \n",
       "1  POLYGON ((2.96361 36.802216, 2.981389 36.80693...  \n",
       "2  (POLYGON ((45.08332100000001 39.76804400000015...  \n",
       "3  POLYGON ((19.436214 41.021065, 19.450554 41.05...  \n",
       "4  (POLYGON ((45.57305100000013 40.63248800000008...  "
      ]
     },
     "execution_count": 2,
     "metadata": {},
     "output_type": "execute_result"
    }
   ],
   "source": [
    "#Geodataframe downloaded from https://thematicmapping.org/downloads/world_borders.php\n",
    "\n",
    "import geopandas as gpd\n",
    "worldmap = gpd.read_file('C:\\\\Users\\\\Aaron\\\\Downloads\\\\TM_WORLD_BORDERS-0.3\\\\TM_WORLD_BORDERS-0.3.shp')\n",
    "worldmap.head()"
   ]
  },
  {
   "cell_type": "code",
   "execution_count": 3,
   "metadata": {},
   "outputs": [],
   "source": [
    "#Life Expectancy Data downloaded from https://data.worldbank.org/indicator/sp.dyn.le00.in\n",
    "yearlylifeexp = pd.read_csv('C:\\\\Users\\\\Aaron\\\\Downloads\\\\API_SP.DYN.LE00.IN_DS2_en_csv_v2_10576744\\\\API_SP.DYN.LE00.IN_DS2_en_csv_v2_10576744.csv')"
   ]
  },
  {
   "cell_type": "code",
   "execution_count": 4,
   "metadata": {},
   "outputs": [],
   "source": [
    "#Merge map and life expectancy dataframes\n",
    "lifeexp = worldmap.set_index('ISO3').join(yearlylifeexp.set_index('Country Code'))"
   ]
  },
  {
   "cell_type": "code",
   "execution_count": 5,
   "metadata": {},
   "outputs": [
    {
     "name": "stdout",
     "output_type": "stream",
     "text": [
      "Imported Life Expectancy Data contains 264 rows\n",
      "Imported World Map Geodataframe contains 246 rows\n",
      "Merged dataframe contains 246 rows\n"
     ]
    },
    {
     "data": {
      "text/html": [
       "<div>\n",
       "<style scoped>\n",
       "    .dataframe tbody tr th:only-of-type {\n",
       "        vertical-align: middle;\n",
       "    }\n",
       "\n",
       "    .dataframe tbody tr th {\n",
       "        vertical-align: top;\n",
       "    }\n",
       "\n",
       "    .dataframe thead th {\n",
       "        text-align: right;\n",
       "    }\n",
       "</style>\n",
       "<table border=\"1\" class=\"dataframe\">\n",
       "  <thead>\n",
       "    <tr style=\"text-align: right;\">\n",
       "      <th></th>\n",
       "      <th>FIPS</th>\n",
       "      <th>ISO2</th>\n",
       "      <th>UN</th>\n",
       "      <th>NAME</th>\n",
       "      <th>AREA</th>\n",
       "      <th>POP2005</th>\n",
       "      <th>REGION</th>\n",
       "      <th>SUBREGION</th>\n",
       "      <th>LON</th>\n",
       "      <th>LAT</th>\n",
       "      <th>...</th>\n",
       "      <th>2009</th>\n",
       "      <th>2010</th>\n",
       "      <th>2011</th>\n",
       "      <th>2012</th>\n",
       "      <th>2013</th>\n",
       "      <th>2014</th>\n",
       "      <th>2015</th>\n",
       "      <th>2016</th>\n",
       "      <th>2017</th>\n",
       "      <th>2018</th>\n",
       "    </tr>\n",
       "    <tr>\n",
       "      <th>ISO3</th>\n",
       "      <th></th>\n",
       "      <th></th>\n",
       "      <th></th>\n",
       "      <th></th>\n",
       "      <th></th>\n",
       "      <th></th>\n",
       "      <th></th>\n",
       "      <th></th>\n",
       "      <th></th>\n",
       "      <th></th>\n",
       "      <th></th>\n",
       "      <th></th>\n",
       "      <th></th>\n",
       "      <th></th>\n",
       "      <th></th>\n",
       "      <th></th>\n",
       "      <th></th>\n",
       "      <th></th>\n",
       "      <th></th>\n",
       "      <th></th>\n",
       "      <th></th>\n",
       "    </tr>\n",
       "  </thead>\n",
       "  <tbody>\n",
       "    <tr>\n",
       "      <th>ATG</th>\n",
       "      <td>AC</td>\n",
       "      <td>AG</td>\n",
       "      <td>28</td>\n",
       "      <td>Antigua and Barbuda</td>\n",
       "      <td>44</td>\n",
       "      <td>83039</td>\n",
       "      <td>19</td>\n",
       "      <td>29</td>\n",
       "      <td>-61.783</td>\n",
       "      <td>17.078</td>\n",
       "      <td>...</td>\n",
       "      <td>75.247</td>\n",
       "      <td>75.412</td>\n",
       "      <td>75.574</td>\n",
       "      <td>75.733</td>\n",
       "      <td>75.892</td>\n",
       "      <td>76.050</td>\n",
       "      <td>76.207</td>\n",
       "      <td>76.364</td>\n",
       "      <td>76.519</td>\n",
       "      <td>NaN</td>\n",
       "    </tr>\n",
       "    <tr>\n",
       "      <th>DZA</th>\n",
       "      <td>AG</td>\n",
       "      <td>DZ</td>\n",
       "      <td>12</td>\n",
       "      <td>Algeria</td>\n",
       "      <td>238174</td>\n",
       "      <td>32854159</td>\n",
       "      <td>2</td>\n",
       "      <td>15</td>\n",
       "      <td>2.632</td>\n",
       "      <td>28.163</td>\n",
       "      <td>...</td>\n",
       "      <td>74.374</td>\n",
       "      <td>74.676</td>\n",
       "      <td>74.944</td>\n",
       "      <td>75.187</td>\n",
       "      <td>75.418</td>\n",
       "      <td>75.641</td>\n",
       "      <td>75.860</td>\n",
       "      <td>76.078</td>\n",
       "      <td>76.293</td>\n",
       "      <td>NaN</td>\n",
       "    </tr>\n",
       "    <tr>\n",
       "      <th>AZE</th>\n",
       "      <td>AJ</td>\n",
       "      <td>AZ</td>\n",
       "      <td>31</td>\n",
       "      <td>Azerbaijan</td>\n",
       "      <td>8260</td>\n",
       "      <td>8352021</td>\n",
       "      <td>142</td>\n",
       "      <td>145</td>\n",
       "      <td>47.395</td>\n",
       "      <td>40.430</td>\n",
       "      <td>...</td>\n",
       "      <td>70.646</td>\n",
       "      <td>70.987</td>\n",
       "      <td>71.260</td>\n",
       "      <td>71.478</td>\n",
       "      <td>71.656</td>\n",
       "      <td>71.800</td>\n",
       "      <td>71.921</td>\n",
       "      <td>72.026</td>\n",
       "      <td>72.123</td>\n",
       "      <td>NaN</td>\n",
       "    </tr>\n",
       "  </tbody>\n",
       "</table>\n",
       "<p>3 rows × 73 columns</p>\n",
       "</div>"
      ],
      "text/plain": [
       "     FIPS ISO2  UN                 NAME    AREA   POP2005  REGION  SUBREGION  \\\n",
       "ISO3                                                                           \n",
       "ATG    AC   AG  28  Antigua and Barbuda      44     83039      19         29   \n",
       "DZA    AG   DZ  12              Algeria  238174  32854159       2         15   \n",
       "AZE    AJ   AZ  31           Azerbaijan    8260   8352021     142        145   \n",
       "\n",
       "         LON     LAT  ...    2009    2010    2011    2012    2013    2014  \\\n",
       "ISO3                  ...                                                   \n",
       "ATG  -61.783  17.078  ...  75.247  75.412  75.574  75.733  75.892  76.050   \n",
       "DZA    2.632  28.163  ...  74.374  74.676  74.944  75.187  75.418  75.641   \n",
       "AZE   47.395  40.430  ...  70.646  70.987  71.260  71.478  71.656  71.800   \n",
       "\n",
       "        2015    2016    2017  2018  \n",
       "ISO3                                \n",
       "ATG   76.207  76.364  76.519   NaN  \n",
       "DZA   75.860  76.078  76.293   NaN  \n",
       "AZE   71.921  72.026  72.123   NaN  \n",
       "\n",
       "[3 rows x 73 columns]"
      ]
     },
     "execution_count": 5,
     "metadata": {},
     "output_type": "execute_result"
    }
   ],
   "source": [
    "print('Imported Life Expectancy Data contains',len(yearlylifeexp),'rows') #264 rows\n",
    "print('Imported World Map Geodataframe contains',len(worldmap),'rows') #246 rows\n",
    "print('Merged dataframe contains',len(lifeexp),'rows') #246 rows\n",
    "lifeexp.head(3)"
   ]
  },
  {
   "cell_type": "code",
   "execution_count": 6,
   "metadata": {},
   "outputs": [],
   "source": [
    "years = ['1960', '1961', '1962', '1963', '1964', '1965',\n",
    "       '1966', '1967', '1968', '1969', '1970', '1971', '1972', '1973', '1974',\n",
    "       '1975', '1976', '1977', '1978', '1979', '1980', '1981', '1982', '1983',\n",
    "       '1984', '1985', '1986', '1987', '1988', '1989', '1990', '1991', '1992',\n",
    "       '1993', '1994', '1995', '1996', '1997', '1998', '1999', '2000', '2001',\n",
    "       '2002', '2003', '2004', '2005', '2006', '2007', '2008', '2009', '2010',\n",
    "       '2011', '2012', '2013', '2014', '2015', '2016', '2017']"
   ]
  },
  {
   "cell_type": "code",
   "execution_count": 7,
   "metadata": {},
   "outputs": [
    {
     "name": "stdout",
     "output_type": "stream",
     "text": [
      "0\n",
      "91.0\n"
     ]
    }
   ],
   "source": [
    "#Setting vmin and vmax for plot\n",
    "vmin, vmax = 0, np.ceil((lifeexp[years].max()).max()+5)\n",
    "print(vmin)\n",
    "print(vmax)"
   ]
  },
  {
   "cell_type": "code",
   "execution_count": 8,
   "metadata": {
    "scrolled": false
   },
   "outputs": [
    {
     "name": "stderr",
     "output_type": "stream",
     "text": [
      "C:\\Users\\Aaron\\Anaconda3\\lib\\site-packages\\matplotlib\\colors.py:512: RuntimeWarning: invalid value encountered in less\n",
      "  xa[xa < 0] = -1\n"
     ]
    },
    {
     "name": "stdout",
     "output_type": "stream",
     "text": [
      "1960\n",
      "1961\n",
      "1962\n",
      "1963\n",
      "1964\n",
      "1965\n",
      "1966\n",
      "1967\n",
      "1968\n",
      "1969\n",
      "1970\n",
      "1971\n",
      "1972\n",
      "1973\n",
      "1974\n",
      "1975\n",
      "1976\n",
      "1977\n",
      "1978\n",
      "1979\n",
      "1980\n",
      "1981\n",
      "1982\n",
      "1983\n",
      "1984\n",
      "1985\n",
      "1986\n",
      "1987\n",
      "1988\n",
      "1989\n",
      "1990\n",
      "1991\n",
      "1992\n",
      "1993\n",
      "1994\n",
      "1995\n",
      "1996\n",
      "1997\n",
      "1998\n",
      "1999\n",
      "2000\n",
      "2001\n",
      "2002\n",
      "2003\n",
      "2004\n",
      "2005\n",
      "2006\n",
      "2007\n",
      "2008\n",
      "2009\n",
      "2010\n",
      "2011\n",
      "2012\n",
      "2013\n",
      "2014\n",
      "2015\n",
      "2016\n",
      "2017\n"
     ]
    }
   ],
   "source": [
    "#Plots life expectancy on world map then saves as jpg\n",
    "for year in years:\n",
    "    fig = lifeexp.plot(column=year, figsize=(14,6), cmap='CMRmap_r', edgecolor='0.8', legend= True, vmin=vmin,vmax=vmax)\n",
    "    plt.title('Global Life Expectancy from 1960 to 2017', fontsize=20)\n",
    "    plt.axis('off')\n",
    "    plt.text(0,-100,year,fontsize=15) #year is printed below x-axis\n",
    "    plt.savefig('C:\\\\Users\\\\Aaron\\\\Documents\\\\lifeexp'+year+'.jpg')\n",
    "    plt.close()\n",
    "    print(year) #print year to check on progress"
   ]
  },
  {
   "cell_type": "code",
   "execution_count": null,
   "metadata": {
    "scrolled": true
   },
   "outputs": [],
   "source": [
    "#convert jpgs to gif\n",
    "\n",
    "filenames = []\n",
    "for year in years:\n",
    "    filenames.append('lifeexp'+year+'.jpg')\n",
    "    \n",
    "kargs = {'duration': .3 }\n",
    "\n",
    "import imageio\n",
    "images = []\n",
    "for filename in filenames:\n",
    "    images.append(imageio.imread(filename))\n",
    "imageio.mimsave('C:\\\\Users\\\\Aaron\\\\Documents\\\\lifeexp1960to2017.gif', images,**kargs)"
   ]
  },
  {
   "cell_type": "code",
   "execution_count": null,
   "metadata": {},
   "outputs": [
    {
     "data": {
      "text/html": [
       "<img src=\"https://giphy.com/gifs/cmryzgPcd9DMuI6g2E\"/>"
      ],
      "text/plain": [
       "<IPython.core.display.Image object>"
      ]
     },
     "metadata": {},
     "output_type": "display_data"
    }
   ],
   "source": [
    "#Attempt to embed finished gif. Haven't got this working yet.\n",
    "\n",
    "from IPython.display import Image\n",
    "from IPython.display import display\n",
    "display(Image(url='https://giphy.com/gifs/cmryzgPcd9DMuI6g2E'))"
   ]
  },
  {
   "cell_type": "markdown",
   "metadata": {},
   "source": [
    "---"
   ]
  },
  {
   "cell_type": "code",
   "execution_count": null,
   "metadata": {},
   "outputs": [],
   "source": [
    "#Second half of code plots the CHANGE in life expectancy"
   ]
  },
  {
   "cell_type": "code",
   "execution_count": null,
   "metadata": {},
   "outputs": [],
   "source": [
    "#create new columns containing the change in life expectancy\n",
    "\n",
    "lastyear = '1960' \n",
    "for year in years[1:]:\n",
    "    lifeexp['Difference'+str(year)] = lifeexp[year]-lifeexp[lastyear]\n",
    "    lastyear = year"
   ]
  },
  {
   "cell_type": "code",
   "execution_count": null,
   "metadata": {},
   "outputs": [],
   "source": [
    "lifeexp = lifeexp.fillna(0) #Set change to 0 if unknown"
   ]
  },
  {
   "cell_type": "code",
   "execution_count": null,
   "metadata": {},
   "outputs": [
    {
     "name": "stdout",
     "output_type": "stream",
     "text": [
      "['Difference1961', 'Difference1962', 'Difference1963', 'Difference1964', 'Difference1965', 'Difference1966', 'Difference1967', 'Difference1968', 'Difference1969', 'Difference1970', 'Difference1971', 'Difference1972', 'Difference1973', 'Difference1974', 'Difference1975', 'Difference1976', 'Difference1977', 'Difference1978', 'Difference1979', 'Difference1980', 'Difference1981', 'Difference1982', 'Difference1983', 'Difference1984', 'Difference1985', 'Difference1986', 'Difference1987', 'Difference1988', 'Difference1989', 'Difference1990', 'Difference1991', 'Difference1992', 'Difference1993', 'Difference1994', 'Difference1995', 'Difference1996', 'Difference1997', 'Difference1998', 'Difference1999', 'Difference2000', 'Difference2001', 'Difference2002', 'Difference2003', 'Difference2004', 'Difference2005', 'Difference2006', 'Difference2007', 'Difference2008', 'Difference2009', 'Difference2010', 'Difference2011', 'Difference2012', 'Difference2013', 'Difference2014', 'Difference2015', 'Difference2016', 'Difference2017']\n"
     ]
    }
   ],
   "source": [
    "cols = []\n",
    "for year in years[1:]:\n",
    "    cols.append('Difference'+str(year))\n",
    "print(cols)"
   ]
  },
  {
   "cell_type": "code",
   "execution_count": null,
   "metadata": {},
   "outputs": [
    {
     "name": "stdout",
     "output_type": "stream",
     "text": [
      "-6.0\n",
      "6.0\n"
     ]
    }
   ],
   "source": [
    "vmin, vmax = np.floor((lifeexp[cols].min()).min())-1, np.ceil((lifeexp[cols].max()).max())\n",
    "print(vmin)\n",
    "print(vmax)"
   ]
  },
  {
   "cell_type": "code",
   "execution_count": null,
   "metadata": {},
   "outputs": [
    {
     "name": "stdout",
     "output_type": "stream",
     "text": [
      "Difference1961\n",
      "Difference1962\n",
      "Difference1963\n",
      "Difference1964\n",
      "Difference1965\n",
      "Difference1966\n",
      "Difference1967\n",
      "Difference1968\n",
      "Difference1969\n",
      "Difference1970\n",
      "Difference1971\n"
     ]
    }
   ],
   "source": [
    "yr = 1960\n",
    "for year in cols:\n",
    "    fig = lifeexp.plot(column=year, figsize=(14,6), cmap='PiYG',\n",
    "            edgecolor='0.8', legend= True, vmin=vmin,vmax=vmax)\n",
    "    plt.title('Annual Change in Life Expectancy from 1961 to 2017',\n",
    "            fontsize=20)\n",
    "    plt.axis('off')\n",
    "    caption = str(yr)+' to '+str((yr+1)) #prints year range below x-axis\n",
    "    plt.text(-30,-100,caption,fontsize=15)\n",
    "    plt.savefig('C:\\\\Users\\\\Aaron\\\\Documents\\\\lifeexp'+year+'.jpg')\n",
    "    plt.close()\n",
    "    print(year)\n",
    "    yr = yr+1"
   ]
  },
  {
   "cell_type": "code",
   "execution_count": null,
   "metadata": {},
   "outputs": [],
   "source": [
    "#convert jpgs to gif\n",
    "\n",
    "filenames = []\n",
    "for year in cols:\n",
    "    filenames.append('lifeexp'+year+'.jpg')\n",
    "\n",
    "kargs = {'duration': .3 }\n",
    "    \n",
    "import imageio\n",
    "images = []\n",
    "for filename in filenames:\n",
    "    images.append(imageio.imread(filename))\n",
    "imageio.mimsave('C:\\\\Users\\\\Aaron\\\\Documents\\\\lifeexpdiff1960to2017.gif', images, **kargs)"
   ]
  }
 ],
 "metadata": {
  "kernelspec": {
   "display_name": "Python 3",
   "language": "python",
   "name": "python3"
  },
  "language_info": {
   "codemirror_mode": {
    "name": "ipython",
    "version": 3
   },
   "file_extension": ".py",
   "mimetype": "text/x-python",
   "name": "python",
   "nbconvert_exporter": "python",
   "pygments_lexer": "ipython3",
   "version": "3.7.3"
  }
 },
 "nbformat": 4,
 "nbformat_minor": 2
}
